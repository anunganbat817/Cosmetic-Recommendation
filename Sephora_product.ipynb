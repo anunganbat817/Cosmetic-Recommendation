{
 "cells": [
  {
   "cell_type": "code",
   "execution_count": 2,
   "metadata": {},
   "outputs": [],
   "source": [
    "import pandas as pd\n",
    "from bs4 import BeautifulSoup\n",
    "import csv\n",
    "import requests"
   ]
  },
  {
   "cell_type": "code",
   "execution_count": 3,
   "metadata": {},
   "outputs": [],
   "source": [
    "urls = pd.read_csv('products.csv')"
   ]
  },
  {
   "cell_type": "code",
   "execution_count": 4,
   "metadata": {},
   "outputs": [],
   "source": [
    "urls.drop(urls.columns[[0, 1]], axis = 1, inplace = True) "
   ]
  },
  {
   "cell_type": "code",
   "execution_count": 162,
   "metadata": {},
   "outputs": [],
   "source": [
    "path = \"./scrape/soup\"+str(0)+\".html\""
   ]
  },
  {
   "cell_type": "code",
   "execution_count": 163,
   "metadata": {},
   "outputs": [],
   "source": [
    "file_path = open(path, 'rb')\n",
    "file_read = file_path.read()"
   ]
  },
  {
   "cell_type": "code",
   "execution_count": 164,
   "metadata": {},
   "outputs": [],
   "source": [
    "soup = BeautifulSoup(file_read)"
   ]
  },
  {
   "cell_type": "code",
   "execution_count": 170,
   "metadata": {},
   "outputs": [],
   "source": [
    "product['name'] = soup.find('span', {'class': 'css-1pgnl76 e65zztl0'}).text"
   ]
  },
  {
   "cell_type": "code",
   "execution_count": 16,
   "metadata": {},
   "outputs": [],
   "source": [
    "#opening a new csv file with headers\n",
    "header = ['name', 'brand', 'category', 'price', 'no_reviews', 'hearts', 'size1','url','ingredients']\n",
    "\n",
    "with open('./scrape/data/products.csv', \"w\", newline='') as f:\n",
    "    writer = csv.writer(f, delimiter=',')\n",
    "    writer.writerow(header) # write the header"
   ]
  },
  {
   "cell_type": "code",
   "execution_count": 110,
   "metadata": {},
   "outputs": [],
   "source": [
    "from bs4 import BeautifulSoup\n",
    "from selenium.webdriver import Chrome\n",
    "from selenium.webdriver.chrome.options import Options"
   ]
  },
  {
   "cell_type": "code",
   "execution_count": 339,
   "metadata": {},
   "outputs": [],
   "source": [
    "for i in range(2119,2128,1):\n",
    "    url = urls.URL[i]\n",
    "    products = [] \n",
    "    #setting the path to the the html files\n",
    "    chrome_options = Options()  \n",
    "    chrome_options.add_argument(\"--headless\")\n",
    "    with Chrome(options=chrome_options) as browser:\n",
    "        browser.get(url)\n",
    "        html = browser.page_source\n",
    "        \n",
    "    product = {}   \n",
    "    page_soup = BeautifulSoup(html, 'html.parser')\n",
    "    products = [] \n",
    "    product['name'] = page_soup.find('span', {'class': 'css-1pgnl76 e65zztl0'}).text \n",
    "    product['brand'] = page_soup.find('a', {'class': 'css-nc375s e65zztl0'}).text\n",
    "    product['category'] = urls.category[i]\n",
    "    try:\n",
    "        product['price'] = page_soup.find('b', {'class': 'css-0'}).text\n",
    "    except: \n",
    "        product['price'] = page_soup.find('b', {'class': 'css-5fq4jh'}).text\n",
    "    product['no_reviews'] = page_soup.find_all('a', {'class': 'css-wthoh7 e65zztl0'})[0].text\n",
    "    product['hearts'] = page_soup.find('div', {'class': 'css-k008qs'}).text\n",
    "            #the product size has two different formats on the pages\n",
    "    try:\n",
    "            product['size1'] = page_soup.find('span', {'class': 'css-15ro776'}).text\n",
    "    except:\n",
    "            product['size1'] = 'standard size'\n",
    "    product['url'] = urls.URL[i]\n",
    "    product['ingredients'] = page_soup.findAll(\"div\",{\"class\":\"css-1ue8dmw eanm77i0\"})\n",
    "\n",
    "    products.append(product)\n",
    "    product_df = pd.DataFrame(products) \n",
    "    product_df.to_csv('./scrape/data/products.csv', mode='a', index = False, header = False)"
   ]
  },
  {
   "cell_type": "code",
   "execution_count": null,
   "metadata": {},
   "outputs": [],
   "source": []
  }
 ],
 "metadata": {
  "kernelspec": {
   "display_name": "Python 3",
   "language": "python",
   "name": "python3"
  },
  "language_info": {
   "codemirror_mode": {
    "name": "ipython",
    "version": 3
   },
   "file_extension": ".py",
   "mimetype": "text/x-python",
   "name": "python",
   "nbconvert_exporter": "python",
   "pygments_lexer": "ipython3",
   "version": "3.8.5"
  }
 },
 "nbformat": 4,
 "nbformat_minor": 4
}
