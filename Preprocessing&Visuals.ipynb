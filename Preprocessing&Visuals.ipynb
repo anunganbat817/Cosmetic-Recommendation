{
 "cells": [
  {
   "cell_type": "code",
   "execution_count": 1,
   "metadata": {},
   "outputs": [],
   "source": [
    "import pandas as pd\n",
    "from bs4 import BeautifulSoup\n",
    "import re\n",
    "import numpy as np"
   ]
  },
  {
   "cell_type": "code",
   "execution_count": 165,
   "metadata": {},
   "outputs": [],
   "source": [
    "products = pd.read_csv('./scrape/data/products.csv')"
   ]
  },
  {
   "cell_type": "code",
   "execution_count": 166,
   "metadata": {},
   "outputs": [
    {
     "data": {
      "text/plain": [
       "(2071, 9)"
      ]
     },
     "execution_count": 166,
     "metadata": {},
     "output_type": "execute_result"
    }
   ],
   "source": [
    "products.shape"
   ]
  },
  {
   "cell_type": "code",
   "execution_count": 168,
   "metadata": {},
   "outputs": [
    {
     "data": {
      "text/html": [
       "<div>\n",
       "<style scoped>\n",
       "    .dataframe tbody tr th:only-of-type {\n",
       "        vertical-align: middle;\n",
       "    }\n",
       "\n",
       "    .dataframe tbody tr th {\n",
       "        vertical-align: top;\n",
       "    }\n",
       "\n",
       "    .dataframe thead th {\n",
       "        text-align: right;\n",
       "    }\n",
       "</style>\n",
       "<table border=\"1\" class=\"dataframe\">\n",
       "  <thead>\n",
       "    <tr style=\"text-align: right;\">\n",
       "      <th></th>\n",
       "      <th>name</th>\n",
       "      <th>brand</th>\n",
       "      <th>price</th>\n",
       "      <th>no_reviews</th>\n",
       "      <th>hearts</th>\n",
       "      <th>size1</th>\n",
       "      <th>url</th>\n",
       "      <th>ingredients</th>\n",
       "    </tr>\n",
       "    <tr>\n",
       "      <th>category</th>\n",
       "      <th></th>\n",
       "      <th></th>\n",
       "      <th></th>\n",
       "      <th></th>\n",
       "      <th></th>\n",
       "      <th></th>\n",
       "      <th></th>\n",
       "      <th></th>\n",
       "    </tr>\n",
       "  </thead>\n",
       "  <tbody>\n",
       "    <tr>\n",
       "      <th>cleanser</th>\n",
       "      <td>362</td>\n",
       "      <td>362</td>\n",
       "      <td>362</td>\n",
       "      <td>362</td>\n",
       "      <td>362</td>\n",
       "      <td>362</td>\n",
       "      <td>362</td>\n",
       "      <td>362</td>\n",
       "    </tr>\n",
       "    <tr>\n",
       "      <th>eye-treatment-dark-circle-treatment</th>\n",
       "      <td>212</td>\n",
       "      <td>212</td>\n",
       "      <td>212</td>\n",
       "      <td>212</td>\n",
       "      <td>212</td>\n",
       "      <td>212</td>\n",
       "      <td>212</td>\n",
       "      <td>212</td>\n",
       "    </tr>\n",
       "    <tr>\n",
       "      <th>facial-treatments</th>\n",
       "      <td>575</td>\n",
       "      <td>575</td>\n",
       "      <td>575</td>\n",
       "      <td>575</td>\n",
       "      <td>575</td>\n",
       "      <td>575</td>\n",
       "      <td>575</td>\n",
       "      <td>575</td>\n",
       "    </tr>\n",
       "    <tr>\n",
       "      <th>lip-treatments</th>\n",
       "      <td>169</td>\n",
       "      <td>169</td>\n",
       "      <td>169</td>\n",
       "      <td>169</td>\n",
       "      <td>169</td>\n",
       "      <td>169</td>\n",
       "      <td>169</td>\n",
       "      <td>169</td>\n",
       "    </tr>\n",
       "    <tr>\n",
       "      <th>moisturizing-cream-oils-mists</th>\n",
       "      <td>481</td>\n",
       "      <td>481</td>\n",
       "      <td>481</td>\n",
       "      <td>481</td>\n",
       "      <td>481</td>\n",
       "      <td>481</td>\n",
       "      <td>481</td>\n",
       "      <td>481</td>\n",
       "    </tr>\n",
       "    <tr>\n",
       "      <th>skin-care-tools</th>\n",
       "      <td>100</td>\n",
       "      <td>100</td>\n",
       "      <td>100</td>\n",
       "      <td>100</td>\n",
       "      <td>100</td>\n",
       "      <td>100</td>\n",
       "      <td>100</td>\n",
       "      <td>100</td>\n",
       "    </tr>\n",
       "    <tr>\n",
       "      <th>sunscreen-sun-protection</th>\n",
       "      <td>172</td>\n",
       "      <td>172</td>\n",
       "      <td>172</td>\n",
       "      <td>172</td>\n",
       "      <td>172</td>\n",
       "      <td>172</td>\n",
       "      <td>172</td>\n",
       "      <td>172</td>\n",
       "    </tr>\n",
       "  </tbody>\n",
       "</table>\n",
       "</div>"
      ],
      "text/plain": [
       "                                     name  brand  price  no_reviews  hearts  \\\n",
       "category                                                                      \n",
       "cleanser                              362    362    362         362     362   \n",
       "eye-treatment-dark-circle-treatment   212    212    212         212     212   \n",
       "facial-treatments                     575    575    575         575     575   \n",
       "lip-treatments                        169    169    169         169     169   \n",
       "moisturizing-cream-oils-mists         481    481    481         481     481   \n",
       "skin-care-tools                       100    100    100         100     100   \n",
       "sunscreen-sun-protection              172    172    172         172     172   \n",
       "\n",
       "                                     size1  url  ingredients  \n",
       "category                                                      \n",
       "cleanser                               362  362          362  \n",
       "eye-treatment-dark-circle-treatment    212  212          212  \n",
       "facial-treatments                      575  575          575  \n",
       "lip-treatments                         169  169          169  \n",
       "moisturizing-cream-oils-mists          481  481          481  \n",
       "skin-care-tools                        100  100          100  \n",
       "sunscreen-sun-protection               172  172          172  "
      ]
     },
     "execution_count": 168,
     "metadata": {},
     "output_type": "execute_result"
    }
   ],
   "source": [
    "products.groupby('category').count()"
   ]
  },
  {
   "cell_type": "code",
   "execution_count": 169,
   "metadata": {},
   "outputs": [],
   "source": [
    "products = products.drop_duplicates()"
   ]
  },
  {
   "cell_type": "code",
   "execution_count": 170,
   "metadata": {},
   "outputs": [
    {
     "data": {
      "text/plain": [
       "(2069, 9)"
      ]
     },
     "execution_count": 170,
     "metadata": {},
     "output_type": "execute_result"
    }
   ],
   "source": [
    "products.shape"
   ]
  },
  {
   "cell_type": "markdown",
   "metadata": {},
   "source": [
    "# convert price to a float "
   ]
  },
  {
   "cell_type": "code",
   "execution_count": 171,
   "metadata": {},
   "outputs": [],
   "source": [
    "products.price = products.price.str.replace(\"$\", \"\")"
   ]
  },
  {
   "cell_type": "code",
   "execution_count": 172,
   "metadata": {},
   "outputs": [],
   "source": [
    "for i in products.index:\n",
    "    products.loc[i, 'price'] =  products.price[i].split(\"(\")[0]\n",
    "    products.loc[i, \"price\"] =  products.price[i].split(\" \")[0]\n",
    "products.price = products.price.astype(float)"
   ]
  },
  {
   "cell_type": "code",
   "execution_count": 173,
   "metadata": {},
   "outputs": [
    {
     "data": {
      "text/html": [
       "<div>\n",
       "<style scoped>\n",
       "    .dataframe tbody tr th:only-of-type {\n",
       "        vertical-align: middle;\n",
       "    }\n",
       "\n",
       "    .dataframe tbody tr th {\n",
       "        vertical-align: top;\n",
       "    }\n",
       "\n",
       "    .dataframe thead th {\n",
       "        text-align: right;\n",
       "    }\n",
       "</style>\n",
       "<table border=\"1\" class=\"dataframe\">\n",
       "  <thead>\n",
       "    <tr style=\"text-align: right;\">\n",
       "      <th></th>\n",
       "      <th>name</th>\n",
       "      <th>brand</th>\n",
       "      <th>category</th>\n",
       "      <th>price</th>\n",
       "      <th>no_reviews</th>\n",
       "      <th>hearts</th>\n",
       "      <th>size1</th>\n",
       "      <th>url</th>\n",
       "      <th>ingredients</th>\n",
       "    </tr>\n",
       "  </thead>\n",
       "  <tbody>\n",
       "  </tbody>\n",
       "</table>\n",
       "</div>"
      ],
      "text/plain": [
       "Empty DataFrame\n",
       "Columns: [name, brand, category, price, no_reviews, hearts, size1, url, ingredients]\n",
       "Index: []"
      ]
     },
     "execution_count": 173,
     "metadata": {},
     "output_type": "execute_result"
    }
   ],
   "source": [
    "products[products.ingredients.isnull()]"
   ]
  },
  {
   "cell_type": "markdown",
   "metadata": {},
   "source": [
    "# clean ingredients"
   ]
  },
  {
   "cell_type": "code",
   "execution_count": 222,
   "metadata": {},
   "outputs": [],
   "source": [
    "data = products.copy()"
   ]
  },
  {
   "cell_type": "code",
   "execution_count": 223,
   "metadata": {},
   "outputs": [],
   "source": [
    "start = '<br/><br/>'\n",
    "end = '\\n<br/><br/>'"
   ]
  },
  {
   "cell_type": "code",
   "execution_count": 224,
   "metadata": {},
   "outputs": [],
   "source": [
    "data['ingredients'] = data.ingredients.str.extract(r'(?<={})(.*?)(?={})'.format(start, end), expand=False)"
   ]
  },
  {
   "cell_type": "code",
   "execution_count": 225,
   "metadata": {},
   "outputs": [
    {
     "data": {
      "text/html": [
       "<div>\n",
       "<style scoped>\n",
       "    .dataframe tbody tr th:only-of-type {\n",
       "        vertical-align: middle;\n",
       "    }\n",
       "\n",
       "    .dataframe tbody tr th {\n",
       "        vertical-align: top;\n",
       "    }\n",
       "\n",
       "    .dataframe thead th {\n",
       "        text-align: right;\n",
       "    }\n",
       "</style>\n",
       "<table border=\"1\" class=\"dataframe\">\n",
       "  <thead>\n",
       "    <tr style=\"text-align: right;\">\n",
       "      <th></th>\n",
       "      <th>name</th>\n",
       "      <th>brand</th>\n",
       "      <th>category</th>\n",
       "      <th>price</th>\n",
       "      <th>no_reviews</th>\n",
       "      <th>hearts</th>\n",
       "      <th>size1</th>\n",
       "      <th>url</th>\n",
       "      <th>ingredients</th>\n",
       "    </tr>\n",
       "  </thead>\n",
       "  <tbody>\n",
       "    <tr>\n",
       "      <th>1</th>\n",
       "      <td>The Dewy Skin Cream Plumping &amp; Hydrating Moist...</td>\n",
       "      <td>Tatcha</td>\n",
       "      <td>moisturizing-cream-oils-mists</td>\n",
       "      <td>68.0</td>\n",
       "      <td>2K</td>\n",
       "      <td>163.6K</td>\n",
       "      <td>Size: 1.7 oz/ 50 mL</td>\n",
       "      <td>https://www.sephora.com/product/the-dewy-skin-...</td>\n",
       "      <td>NaN</td>\n",
       "    </tr>\n",
       "    <tr>\n",
       "      <th>3</th>\n",
       "      <td>The Water Cream Oil-Free Pore Minimizing Moist...</td>\n",
       "      <td>Tatcha</td>\n",
       "      <td>moisturizing-cream-oils-mists</td>\n",
       "      <td>68.0</td>\n",
       "      <td>3.6K</td>\n",
       "      <td>274.4K</td>\n",
       "      <td>Size: 1.7 oz/ 50 mL</td>\n",
       "      <td>https://www.sephora.com/product/the-water-crea...</td>\n",
       "      <td>NaN</td>\n",
       "    </tr>\n",
       "    <tr>\n",
       "      <th>6</th>\n",
       "      <td>Crème de la Mer Moisturizer</td>\n",
       "      <td>La Mer</td>\n",
       "      <td>moisturizing-cream-oils-mists</td>\n",
       "      <td>190.0</td>\n",
       "      <td>729</td>\n",
       "      <td>79.3K</td>\n",
       "      <td>Size: 1 oz/ 30 mL</td>\n",
       "      <td>https://www.sephora.com/product/creme-de-la-me...</td>\n",
       "      <td>NaN</td>\n",
       "    </tr>\n",
       "    <tr>\n",
       "      <th>8</th>\n",
       "      <td>Natural Moisturizing Factors + HA</td>\n",
       "      <td>The Ordinary</td>\n",
       "      <td>moisturizing-cream-oils-mists</td>\n",
       "      <td>5.8</td>\n",
       "      <td>1.3K</td>\n",
       "      <td>161.6K</td>\n",
       "      <td>Size: 1 oz/ 30 mL</td>\n",
       "      <td>https://www.sephora.com/product/the-ordinary-d...</td>\n",
       "      <td>NaN</td>\n",
       "    </tr>\n",
       "    <tr>\n",
       "      <th>9</th>\n",
       "      <td>CC+ Cream with SPF 50+</td>\n",
       "      <td>IT Cosmetics</td>\n",
       "      <td>moisturizing-cream-oils-mists</td>\n",
       "      <td>39.5</td>\n",
       "      <td>4K</td>\n",
       "      <td>271K</td>\n",
       "      <td>Color: Light - taupe shade with warm undertones</td>\n",
       "      <td>https://www.sephora.com/product/your-skin-but-...</td>\n",
       "      <td>NaN</td>\n",
       "    </tr>\n",
       "    <tr>\n",
       "      <th>...</th>\n",
       "      <td>...</td>\n",
       "      <td>...</td>\n",
       "      <td>...</td>\n",
       "      <td>...</td>\n",
       "      <td>...</td>\n",
       "      <td>...</td>\n",
       "      <td>...</td>\n",
       "      <td>...</td>\n",
       "      <td>...</td>\n",
       "    </tr>\n",
       "    <tr>\n",
       "      <th>2058</th>\n",
       "      <td>Volcano Lip Balm</td>\n",
       "      <td>Capri Blue</td>\n",
       "      <td>lip-treatments</td>\n",
       "      <td>10.0</td>\n",
       "      <td>7</td>\n",
       "      <td>1.1K</td>\n",
       "      <td>Size: 0.42 oz</td>\n",
       "      <td>https://www.sephora.com/product/capri-blue-vol...</td>\n",
       "      <td>NaN</td>\n",
       "    </tr>\n",
       "    <tr>\n",
       "      <th>2059</th>\n",
       "      <td>basic balm</td>\n",
       "      <td>lululemon selfcare</td>\n",
       "      <td>lip-treatments</td>\n",
       "      <td>14.0</td>\n",
       "      <td>29</td>\n",
       "      <td>2.6K</td>\n",
       "      <td>Size: 0.32 oz/ 9.5 mL</td>\n",
       "      <td>https://www.sephora.com/product/basic-balm-P44...</td>\n",
       "      <td>NaN</td>\n",
       "    </tr>\n",
       "    <tr>\n",
       "      <th>2062</th>\n",
       "      <td>Butterstick Lip Treatment</td>\n",
       "      <td>Kiehl's Since 1851</td>\n",
       "      <td>lip-treatments</td>\n",
       "      <td>24.0</td>\n",
       "      <td>21</td>\n",
       "      <td>6.3K</td>\n",
       "      <td>standard size</td>\n",
       "      <td>https://www.sephora.com/product/butterstick-li...</td>\n",
       "      <td>NaN</td>\n",
       "    </tr>\n",
       "    <tr>\n",
       "      <th>2064</th>\n",
       "      <td>Argan Lip Sting Plumping Butter</td>\n",
       "      <td>Josie Maran</td>\n",
       "      <td>lip-treatments</td>\n",
       "      <td>23.0</td>\n",
       "      <td>464</td>\n",
       "      <td>34.6K</td>\n",
       "      <td>Color: Free It - Grapefruit</td>\n",
       "      <td>https://www.sephora.com/product/argan-lip-stin...</td>\n",
       "      <td>NaN</td>\n",
       "    </tr>\n",
       "    <tr>\n",
       "      <th>2067</th>\n",
       "      <td>All Natural Infused Lip Mask- 5 Pack</td>\n",
       "      <td>KNC Beauty</td>\n",
       "      <td>lip-treatments</td>\n",
       "      <td>25.0</td>\n",
       "      <td>20</td>\n",
       "      <td>4.7K</td>\n",
       "      <td>standard size</td>\n",
       "      <td>https://www.sephora.com/product/all-natural-in...</td>\n",
       "      <td>NaN</td>\n",
       "    </tr>\n",
       "  </tbody>\n",
       "</table>\n",
       "<p>1291 rows × 9 columns</p>\n",
       "</div>"
      ],
      "text/plain": [
       "                                                   name               brand  \\\n",
       "1     The Dewy Skin Cream Plumping & Hydrating Moist...              Tatcha   \n",
       "3     The Water Cream Oil-Free Pore Minimizing Moist...              Tatcha   \n",
       "6                           Crème de la Mer Moisturizer              La Mer   \n",
       "8                     Natural Moisturizing Factors + HA        The Ordinary   \n",
       "9                                CC+ Cream with SPF 50+        IT Cosmetics   \n",
       "...                                                 ...                 ...   \n",
       "2058                                   Volcano Lip Balm          Capri Blue   \n",
       "2059                                         basic balm  lululemon selfcare   \n",
       "2062                          Butterstick Lip Treatment  Kiehl's Since 1851   \n",
       "2064                    Argan Lip Sting Plumping Butter         Josie Maran   \n",
       "2067               All Natural Infused Lip Mask- 5 Pack          KNC Beauty   \n",
       "\n",
       "                           category  price no_reviews  hearts  \\\n",
       "1     moisturizing-cream-oils-mists   68.0         2K  163.6K   \n",
       "3     moisturizing-cream-oils-mists   68.0       3.6K  274.4K   \n",
       "6     moisturizing-cream-oils-mists  190.0        729   79.3K   \n",
       "8     moisturizing-cream-oils-mists    5.8       1.3K  161.6K   \n",
       "9     moisturizing-cream-oils-mists   39.5         4K    271K   \n",
       "...                             ...    ...        ...     ...   \n",
       "2058                 lip-treatments   10.0          7    1.1K   \n",
       "2059                 lip-treatments   14.0         29    2.6K   \n",
       "2062                 lip-treatments   24.0         21    6.3K   \n",
       "2064                 lip-treatments   23.0        464   34.6K   \n",
       "2067                 lip-treatments   25.0         20    4.7K   \n",
       "\n",
       "                                                size1  \\\n",
       "1                                 Size: 1.7 oz/ 50 mL   \n",
       "3                                 Size: 1.7 oz/ 50 mL   \n",
       "6                                   Size: 1 oz/ 30 mL   \n",
       "8                                   Size: 1 oz/ 30 mL   \n",
       "9     Color: Light - taupe shade with warm undertones   \n",
       "...                                               ...   \n",
       "2058                                    Size: 0.42 oz   \n",
       "2059                            Size: 0.32 oz/ 9.5 mL   \n",
       "2062                                    standard size   \n",
       "2064                      Color: Free It - Grapefruit   \n",
       "2067                                    standard size   \n",
       "\n",
       "                                                    url ingredients  \n",
       "1     https://www.sephora.com/product/the-dewy-skin-...         NaN  \n",
       "3     https://www.sephora.com/product/the-water-crea...         NaN  \n",
       "6     https://www.sephora.com/product/creme-de-la-me...         NaN  \n",
       "8     https://www.sephora.com/product/the-ordinary-d...         NaN  \n",
       "9     https://www.sephora.com/product/your-skin-but-...         NaN  \n",
       "...                                                 ...         ...  \n",
       "2058  https://www.sephora.com/product/capri-blue-vol...         NaN  \n",
       "2059  https://www.sephora.com/product/basic-balm-P44...         NaN  \n",
       "2062  https://www.sephora.com/product/butterstick-li...         NaN  \n",
       "2064  https://www.sephora.com/product/argan-lip-stin...         NaN  \n",
       "2067  https://www.sephora.com/product/all-natural-in...         NaN  \n",
       "\n",
       "[1291 rows x 9 columns]"
      ]
     },
     "execution_count": 225,
     "metadata": {},
     "output_type": "execute_result"
    }
   ],
   "source": [
    "data[data.ingredients.isnull()]"
   ]
  },
  {
   "cell_type": "code",
   "execution_count": 226,
   "metadata": {},
   "outputs": [],
   "source": [
    "cleaned_data = data[data.ingredients.notnull()]"
   ]
  },
  {
   "cell_type": "code",
   "execution_count": 228,
   "metadata": {},
   "outputs": [
    {
     "data": {
      "text/plain": [
       "(778, 9)"
      ]
     },
     "execution_count": 228,
     "metadata": {},
     "output_type": "execute_result"
    }
   ],
   "source": [
    "cleaned_data.shape"
   ]
  },
  {
   "cell_type": "code",
   "execution_count": 240,
   "metadata": {},
   "outputs": [
    {
     "data": {
      "text/plain": [
       "'Water/Aqua/Eau, Dicaprylyl Carbonate, Glycerin, Cetearyl Alcohol, Cetearyl Olivate, Sorbitan Olivate, Sclerocarya Birrea Seed Oil, Bacillus/Soybean/ Folic Acid Ferment Extract, Nymphaea Alba Root Extract, sh-Oligopeptide-1, sh-Oligopeptide-2, sh-Polypeptide-1, sh-Polypeptide-9, sh-Polypeptide-11, Copper Palmitoyl Heptapeptide-14, Heptapeptide-15 Palmitate, Palmitoyl Tetrapeptide-7, Palmitoyl Tripeptide-1, Alanine, Arginine, Glycine, Histidine, Isoleucine, Phenylalanine, Proline, Serine, Threonine, Valine, Acetyl Glutamine, Coconut Alkanes, Coco-Caprylate/Caprate, Sodium Hyaluronate, Aspartic Acid, Linoleic Acid, Linolenic Acid, Lecithin, Butylene Glycol, Polyvinyl Alcohol, Sodium Lactate, Sodium PCA, PCA, Sorbitan Isostearate, Carbomer, Polysorbate 20, Polysorbate 60, Lactic Acid/Glycolic Acid Copolymer, Hydroxyethyl Acrylate/Sodium Acryloyldimethyl Taurate Copolymer, Xanthan Gum, Isomalt, 1,2-Hexanediol, Caprylyl Glycol, Chlorphenesin, Phenoxyethanol, Tocopherol, Sodium Benzoate, Phenylpropanol, Glyceryl Caprylate, Symphytum Officinale Callus Culture Extract.'"
      ]
     },
     "execution_count": 240,
     "metadata": {},
     "output_type": "execute_result"
    }
   ],
   "source": [
    "cleaned_data.loc[0,'ingredients']"
   ]
  },
  {
   "cell_type": "code",
   "execution_count": 229,
   "metadata": {},
   "outputs": [],
   "source": [
    "data2 = products.copy()"
   ]
  },
  {
   "cell_type": "code",
   "execution_count": 230,
   "metadata": {},
   "outputs": [],
   "source": [
    "s = '<div>'\n",
    "e = '.<br/>'"
   ]
  },
  {
   "cell_type": "code",
   "execution_count": 231,
   "metadata": {},
   "outputs": [],
   "source": [
    "data2['ingredients'] = data2.ingredients.str.extract(r'(?<={})(.*?)(?={})'.format(s, e), expand=False)"
   ]
  },
  {
   "cell_type": "code",
   "execution_count": 255,
   "metadata": {},
   "outputs": [],
   "source": [
    "nulldata = data[data.ingredients.isnull()]"
   ]
  },
  {
   "cell_type": "code",
   "execution_count": 300,
   "metadata": {},
   "outputs": [],
   "source": [
    "import re\n",
    "\n",
    "text = products.loc[103,'ingredients']\n",
    "\n",
    "m = re.search('<br/><br/>(.+?).</div></div>', text)\n",
    "if m:\n",
    "    found = m.group(1)"
   ]
  },
  {
   "cell_type": "code",
   "execution_count": 290,
   "metadata": {},
   "outputs": [
    {
     "data": {
      "text/html": [
       "<div>\n",
       "<style scoped>\n",
       "    .dataframe tbody tr th:only-of-type {\n",
       "        vertical-align: middle;\n",
       "    }\n",
       "\n",
       "    .dataframe tbody tr th {\n",
       "        vertical-align: top;\n",
       "    }\n",
       "\n",
       "    .dataframe thead th {\n",
       "        text-align: right;\n",
       "    }\n",
       "</style>\n",
       "<table border=\"1\" class=\"dataframe\">\n",
       "  <thead>\n",
       "    <tr style=\"text-align: right;\">\n",
       "      <th></th>\n",
       "      <th>name</th>\n",
       "      <th>brand</th>\n",
       "      <th>category</th>\n",
       "      <th>price</th>\n",
       "      <th>no_reviews</th>\n",
       "      <th>hearts</th>\n",
       "      <th>size1</th>\n",
       "      <th>url</th>\n",
       "      <th>ingredients</th>\n",
       "    </tr>\n",
       "  </thead>\n",
       "  <tbody>\n",
       "    <tr>\n",
       "      <th>98</th>\n",
       "      <td>Vitamin C+ Collagen Deep Cream</td>\n",
       "      <td>Dr. Dennis Gross Skincare</td>\n",
       "      <td>moisturizing-cream-oils-mists</td>\n",
       "      <td>72.0</td>\n",
       "      <td>243</td>\n",
       "      <td>13.5K</td>\n",
       "      <td>Size: 1.7 oz/ 50 g</td>\n",
       "      <td>https://www.sephora.com/product/c-collagen-dee...</td>\n",
       "      <td>Water, Glycerin, Butylene Glycol, Camellia Jap...</td>\n",
       "    </tr>\n",
       "    <tr>\n",
       "      <th>102</th>\n",
       "      <td>Benefiance Wrinkle Smoothing Day Cream SPF 23</td>\n",
       "      <td>Shiseido</td>\n",
       "      <td>moisturizing-cream-oils-mists</td>\n",
       "      <td>70.0</td>\n",
       "      <td>178</td>\n",
       "      <td>11K</td>\n",
       "      <td>Size: 1.7 oz/ 50 mL</td>\n",
       "      <td>https://www.sephora.com/product/benefiance-wri...</td>\n",
       "      <td>-ReNeura Technology+™: Helps improve skin rec...</td>\n",
       "    </tr>\n",
       "    <tr>\n",
       "      <th>103</th>\n",
       "      <td>Benefiance Wrinkle Smoothing Cream Enriched</td>\n",
       "      <td>Shiseido</td>\n",
       "      <td>moisturizing-cream-oils-mists</td>\n",
       "      <td>70.0</td>\n",
       "      <td>149</td>\n",
       "      <td>4.8K</td>\n",
       "      <td>Size: 1.7 oz/ 50 mL</td>\n",
       "      <td>https://www.sephora.com/product/benefiance-wri...</td>\n",
       "      <td>-ReNeura Technology+™: Helps improve skin rec...</td>\n",
       "    </tr>\n",
       "    <tr>\n",
       "      <th>106</th>\n",
       "      <td>Maracuja Hydrating Tinted Moisturizer</td>\n",
       "      <td>tarte</td>\n",
       "      <td>moisturizing-cream-oils-mists</td>\n",
       "      <td>29.0</td>\n",
       "      <td>191</td>\n",
       "      <td>28.5K</td>\n",
       "      <td>Color: 34N medium neutral - medium skin with n...</td>\n",
       "      <td>https://www.sephora.com/product/tarte-maracuja...</td>\n",
       "      <td>-Hyaluronic Acid: Delivers moisture, visible ...</td>\n",
       "    </tr>\n",
       "    <tr>\n",
       "      <th>107</th>\n",
       "      <td>Vinosource SOS Intense Hydration Moisturizer</td>\n",
       "      <td>Caudalie</td>\n",
       "      <td>moisturizing-cream-oils-mists</td>\n",
       "      <td>42.0</td>\n",
       "      <td>353</td>\n",
       "      <td>21.5K</td>\n",
       "      <td>Size: 1.6 oz/ 50 mL</td>\n",
       "      <td>https://www.sephora.com/product/vinosource-sos...</td>\n",
       "      <td>NaN</td>\n",
       "    </tr>\n",
       "    <tr>\n",
       "      <th>...</th>\n",
       "      <td>...</td>\n",
       "      <td>...</td>\n",
       "      <td>...</td>\n",
       "      <td>...</td>\n",
       "      <td>...</td>\n",
       "      <td>...</td>\n",
       "      <td>...</td>\n",
       "      <td>...</td>\n",
       "      <td>...</td>\n",
       "    </tr>\n",
       "    <tr>\n",
       "      <th>2058</th>\n",
       "      <td>Volcano Lip Balm</td>\n",
       "      <td>Capri Blue</td>\n",
       "      <td>lip-treatments</td>\n",
       "      <td>10.0</td>\n",
       "      <td>7</td>\n",
       "      <td>1.1K</td>\n",
       "      <td>Size: 0.42 oz</td>\n",
       "      <td>https://www.sephora.com/product/capri-blue-vol...</td>\n",
       "      <td>Helianthus Annuus (Sunflower) Seed Oil Olea Eu...</td>\n",
       "    </tr>\n",
       "    <tr>\n",
       "      <th>2059</th>\n",
       "      <td>basic balm</td>\n",
       "      <td>lululemon selfcare</td>\n",
       "      <td>lip-treatments</td>\n",
       "      <td>14.0</td>\n",
       "      <td>29</td>\n",
       "      <td>2.6K</td>\n",
       "      <td>Size: 0.32 oz/ 9.5 mL</td>\n",
       "      <td>https://www.sephora.com/product/basic-balm-P44...</td>\n",
       "      <td>-Shea Butter: With vitamins A, E, and F, work...</td>\n",
       "    </tr>\n",
       "    <tr>\n",
       "      <th>2062</th>\n",
       "      <td>Butterstick Lip Treatment</td>\n",
       "      <td>Kiehl's Since 1851</td>\n",
       "      <td>lip-treatments</td>\n",
       "      <td>24.0</td>\n",
       "      <td>21</td>\n",
       "      <td>6.3K</td>\n",
       "      <td>standard size</td>\n",
       "      <td>https://www.sephora.com/product/butterstick-li...</td>\n",
       "      <td>NaN</td>\n",
       "    </tr>\n",
       "    <tr>\n",
       "      <th>2064</th>\n",
       "      <td>Argan Lip Sting Plumping Butter</td>\n",
       "      <td>Josie Maran</td>\n",
       "      <td>lip-treatments</td>\n",
       "      <td>23.0</td>\n",
       "      <td>464</td>\n",
       "      <td>34.6K</td>\n",
       "      <td>Color: Free It - Grapefruit</td>\n",
       "      <td>https://www.sephora.com/product/argan-lip-stin...</td>\n",
       "      <td>NaN</td>\n",
       "    </tr>\n",
       "    <tr>\n",
       "      <th>2067</th>\n",
       "      <td>All Natural Infused Lip Mask- 5 Pack</td>\n",
       "      <td>KNC Beauty</td>\n",
       "      <td>lip-treatments</td>\n",
       "      <td>25.0</td>\n",
       "      <td>20</td>\n",
       "      <td>4.7K</td>\n",
       "      <td>standard size</td>\n",
       "      <td>https://www.sephora.com/product/all-natural-in...</td>\n",
       "      <td>-Collagen: Helps plum</td>\n",
       "    </tr>\n",
       "  </tbody>\n",
       "</table>\n",
       "<p>1251 rows × 9 columns</p>\n",
       "</div>"
      ],
      "text/plain": [
       "                                               name  \\\n",
       "98                   Vitamin C+ Collagen Deep Cream   \n",
       "102   Benefiance Wrinkle Smoothing Day Cream SPF 23   \n",
       "103     Benefiance Wrinkle Smoothing Cream Enriched   \n",
       "106           Maracuja Hydrating Tinted Moisturizer   \n",
       "107    Vinosource SOS Intense Hydration Moisturizer   \n",
       "...                                             ...   \n",
       "2058                               Volcano Lip Balm   \n",
       "2059                                     basic balm   \n",
       "2062                      Butterstick Lip Treatment   \n",
       "2064                Argan Lip Sting Plumping Butter   \n",
       "2067           All Natural Infused Lip Mask- 5 Pack   \n",
       "\n",
       "                          brand                       category  price  \\\n",
       "98    Dr. Dennis Gross Skincare  moisturizing-cream-oils-mists   72.0   \n",
       "102                    Shiseido  moisturizing-cream-oils-mists   70.0   \n",
       "103                    Shiseido  moisturizing-cream-oils-mists   70.0   \n",
       "106                       tarte  moisturizing-cream-oils-mists   29.0   \n",
       "107                    Caudalie  moisturizing-cream-oils-mists   42.0   \n",
       "...                         ...                            ...    ...   \n",
       "2058                 Capri Blue                 lip-treatments   10.0   \n",
       "2059         lululemon selfcare                 lip-treatments   14.0   \n",
       "2062         Kiehl's Since 1851                 lip-treatments   24.0   \n",
       "2064                Josie Maran                 lip-treatments   23.0   \n",
       "2067                 KNC Beauty                 lip-treatments   25.0   \n",
       "\n",
       "     no_reviews hearts                                              size1  \\\n",
       "98          243  13.5K                                 Size: 1.7 oz/ 50 g   \n",
       "102         178    11K                                Size: 1.7 oz/ 50 mL   \n",
       "103         149   4.8K                                Size: 1.7 oz/ 50 mL   \n",
       "106         191  28.5K  Color: 34N medium neutral - medium skin with n...   \n",
       "107         353  21.5K                                Size: 1.6 oz/ 50 mL   \n",
       "...         ...    ...                                                ...   \n",
       "2058          7   1.1K                                      Size: 0.42 oz   \n",
       "2059         29   2.6K                              Size: 0.32 oz/ 9.5 mL   \n",
       "2062         21   6.3K                                      standard size   \n",
       "2064        464  34.6K                        Color: Free It - Grapefruit   \n",
       "2067         20   4.7K                                      standard size   \n",
       "\n",
       "                                                    url  \\\n",
       "98    https://www.sephora.com/product/c-collagen-dee...   \n",
       "102   https://www.sephora.com/product/benefiance-wri...   \n",
       "103   https://www.sephora.com/product/benefiance-wri...   \n",
       "106   https://www.sephora.com/product/tarte-maracuja...   \n",
       "107   https://www.sephora.com/product/vinosource-sos...   \n",
       "...                                                 ...   \n",
       "2058  https://www.sephora.com/product/capri-blue-vol...   \n",
       "2059  https://www.sephora.com/product/basic-balm-P44...   \n",
       "2062  https://www.sephora.com/product/butterstick-li...   \n",
       "2064  https://www.sephora.com/product/argan-lip-stin...   \n",
       "2067  https://www.sephora.com/product/all-natural-in...   \n",
       "\n",
       "                                            ingredients  \n",
       "98    Water, Glycerin, Butylene Glycol, Camellia Jap...  \n",
       "102    -ReNeura Technology+™: Helps improve skin rec...  \n",
       "103    -ReNeura Technology+™: Helps improve skin rec...  \n",
       "106    -Hyaluronic Acid: Delivers moisture, visible ...  \n",
       "107                                                 NaN  \n",
       "...                                                 ...  \n",
       "2058  Helianthus Annuus (Sunflower) Seed Oil Olea Eu...  \n",
       "2059   -Shea Butter: With vitamins A, E, and F, work...  \n",
       "2062                                                NaN  \n",
       "2064                                                NaN  \n",
       "2067                              -Collagen: Helps plum  \n",
       "\n",
       "[1251 rows x 9 columns]"
      ]
     },
     "execution_count": 290,
     "metadata": {},
     "output_type": "execute_result"
    }
   ],
   "source": [
    "data2[data2.name.isin(nulldata.name)].loc[98:]"
   ]
  },
  {
   "cell_type": "code",
   "execution_count": null,
   "metadata": {},
   "outputs": [],
   "source": [
    "def get_string(x):\n",
    "    text = products.loc[103,'ingredients']\n",
    "\n",
    "m = re.search('<br/><br/>(.+?).</div></div>', text)\n",
    "if m:\n",
    "    found = m.group(1)"
   ]
  },
  {
   "cell_type": "code",
   "execution_count": 530,
   "metadata": {},
   "outputs": [],
   "source": [
    "df = products.copy()"
   ]
  },
  {
   "cell_type": "code",
   "execution_count": 531,
   "metadata": {},
   "outputs": [],
   "source": [
    "df['list_of_ingredients'] = \"\""
   ]
  },
  {
   "cell_type": "code",
   "execution_count": 532,
   "metadata": {},
   "outputs": [],
   "source": [
    "for i in df['ingredients']:\n",
    "    text = str(i)\n",
    "    m = re.search('<br/><br/>(.+?).</div></div>', text)\n",
    "    if m: \n",
    "        string = m.group(1)\n",
    "    df['list_of_ingredients'] = string"
   ]
  },
  {
   "cell_type": "code",
   "execution_count": 533,
   "metadata": {},
   "outputs": [],
   "source": [
    "df['list_of_ingredients'] = df.ingredients.str.extract(r'<br/><br/>\\s*([^\\.]*)\\s*\\.', expand=False)"
   ]
  },
  {
   "cell_type": "code",
   "execution_count": 536,
   "metadata": {},
   "outputs": [],
   "source": [
    "df.loc[df['name'] == 'The Dewy Skin Cream Plumping & Hydrating Moisturizer', 'list_of_ingredients'] = df.ingredients.str.extract(r'<div>\\s*([^\\.]*)\\s*\\.', expand=False)"
   ]
  },
  {
   "cell_type": "code",
   "execution_count": 537,
   "metadata": {},
   "outputs": [],
   "source": [
    "df.loc[df['name'] == 'Benefiance Wrinkle Smoothing Cream Enriched', 'list_of_ingredients'] = re.search('<br/><br/>(.*).\"', df.loc[103,'ingredients']).group(1).split(s,1)[0]"
   ]
  },
  {
   "cell_type": "code",
   "execution_count": 538,
   "metadata": {},
   "outputs": [
    {
     "data": {
      "text/plain": [
       "(311, 10)"
      ]
     },
     "execution_count": 538,
     "metadata": {},
     "output_type": "execute_result"
    }
   ],
   "source": [
    "df[df.list_of_ingredients.isnull()].shape"
   ]
  },
  {
   "cell_type": "code",
   "execution_count": 539,
   "metadata": {},
   "outputs": [],
   "source": [
    "null = df[df.list_of_ingredients.isnull()]"
   ]
  },
  {
   "cell_type": "code",
   "execution_count": 540,
   "metadata": {},
   "outputs": [
    {
     "name": "stderr",
     "output_type": "stream",
     "text": [
      "<ipython-input-540-6524268a5ec8>:1: SettingWithCopyWarning: \n",
      "A value is trying to be set on a copy of a slice from a DataFrame.\n",
      "Try using .loc[row_indexer,col_indexer] = value instead\n",
      "\n",
      "See the caveats in the documentation: https://pandas.pydata.org/pandas-docs/stable/user_guide/indexing.html#returning-a-view-versus-a-copy\n",
      "  null['list_of_ingredients'] = null.ingredients.str.extract(r'\\n<br/>\\n<br/>\\s*([^\\.]*)\\s*\\.', expand=False)\n"
     ]
    }
   ],
   "source": [
    "null['list_of_ingredients'] = null.ingredients.str.extract(r'\\n<br/>\\n<br/>\\s*([^\\.]*)\\s*\\.', expand=False)"
   ]
  },
  {
   "cell_type": "code",
   "execution_count": 544,
   "metadata": {},
   "outputs": [],
   "source": [
    "df.list_of_ingredients.fillna(null.list_of_ingredients, inplace=True)"
   ]
  },
  {
   "cell_type": "code",
   "execution_count": 555,
   "metadata": {},
   "outputs": [],
   "source": [
    "null2= df[df.list_of_ingredients.isnull()]"
   ]
  },
  {
   "cell_type": "code",
   "execution_count": 563,
   "metadata": {},
   "outputs": [
    {
     "data": {
      "text/plain": [
       "'Rubus Idaeus (Cold Pressed Red Raspberry) Seed Oil, Neopentyl Glycol Diethylhexanoate, Caprylyl Caprylate/Caprate, Simmondsia Chineses (Jojoba) Seed Oil, Vaccinium Macrocarpon (Cold Pressed Cranberry) Seed Oil, Punica Granatum (Cold Pressed Pomegranate) Seed Oil, Cucumis Sativus (Cucumber) Seed Oil, Oenothera Biennis (Evening Primrose) Seed, Tetrahexyldecyl Ascorbate, Octyldodecanol, Curcuma Longa (Turmeric) Root Extract, Helianthus Annuus (Sunflower) Seed Oil Unsaponifiables, Citrus Aurantium Amara (Bitter Orange) Flower Oil, Eclipta Prostrata Extract, Melia Azadirachta Leaf Extract, Moringa Oleifera Seed Oil, Tocopherol, Helianthus Annuus (Sunflower) Seed Oil, Pentylene Glycol, 4-t-Butylcyclohexanol, Ribes Nigrum (Black Current) Seed Oil, Bisabolol, Cetylhydroxyproline Palmitamide, Hexyldecanol, Hydroxyphenyl Propamidobenzoic Acid, Stearic Acid, Brassica Campestris (Rapeseed) Sterols, Cardiospermum Halicacabum Flower/ Leaf/ Vine Extract, Zingiber Officinale, Rosemarinus Officinalis (Rosemary) Leaf Extract'"
      ]
     },
     "execution_count": 563,
     "metadata": {},
     "output_type": "execute_result"
    }
   ],
   "source": [
    "null2.loc[45,'list_of_ingredients']"
   ]
  },
  {
   "cell_type": "code",
   "execution_count": 561,
   "metadata": {},
   "outputs": [
    {
     "name": "stderr",
     "output_type": "stream",
     "text": [
      "<ipython-input-561-1bd46fd5eff8>:1: SettingWithCopyWarning: \n",
      "A value is trying to be set on a copy of a slice from a DataFrame.\n",
      "Try using .loc[row_indexer,col_indexer] = value instead\n",
      "\n",
      "See the caveats in the documentation: https://pandas.pydata.org/pandas-docs/stable/user_guide/indexing.html#returning-a-view-versus-a-copy\n",
      "  null2['list_of_ingredients'] = null2.ingredients.str.extract(r'<div>\\s*([^\\.]*)\\s*\\.', expand=False)\n"
     ]
    }
   ],
   "source": [
    "null2['list_of_ingredients'] = null2.ingredients.str.extract(r'<div>\\s*([^\\.]*)\\s*\\.', expand=False)"
   ]
  },
  {
   "cell_type": "code",
   "execution_count": 565,
   "metadata": {},
   "outputs": [],
   "source": [
    "df.list_of_ingredients.fillna(null2.list_of_ingredients, inplace=True)"
   ]
  },
  {
   "cell_type": "code",
   "execution_count": 567,
   "metadata": {},
   "outputs": [],
   "source": [
    "null3 = df[df.list_of_ingredients.isnull()]"
   ]
  },
  {
   "cell_type": "code",
   "execution_count": 1054,
   "metadata": {},
   "outputs": [],
   "source": [
    "cleaned_data = df.copy()"
   ]
  },
  {
   "cell_type": "code",
   "execution_count": 1055,
   "metadata": {},
   "outputs": [],
   "source": [
    "for i in cleaned_data.index:\n",
    "    #remove anything between parethesis and parenthesis\n",
    "    new_string = re.sub(r'\\([^)]*\\)', '', cleaned_data.loc[i, 'ingredients'])\n",
    "    #remove anything between <> and <>\n",
    "    new_string= re.sub(r'\\<[^)]*\\>', '', new_string)\n",
    "    #remove anything betwee [] and []\n",
    "    new_string= re.sub(r'\\[[^)]*\\]', '', new_string)\n",
    "    products.loc[i, 'ingredients'] = new_string.replace('  ', ' ')\n",
    "    \n",
    "cleaned_data['list_of_ingredients'] = cleaned_data['list_of_ingredients'].str.replace('<', \"\")\n",
    "cleaned_data['list_of_ingredients'] = cleaned_data['list_of_ingredients'].str.replace(']', \"\")\n",
    "cleaned_data['list_of_ingredients'] = cleaned_data['list_of_ingredients'].str.replace(')', \"\")"
   ]
  },
  {
   "cell_type": "markdown",
   "metadata": {},
   "source": [
    "# clean number of reviews"
   ]
  },
  {
   "cell_type": "code",
   "execution_count": 1056,
   "metadata": {},
   "outputs": [],
   "source": [
    "cleaned_data['no_reviews'].replace({\"Write a review\": 0}, inplace = True)"
   ]
  },
  {
   "cell_type": "code",
   "execution_count": 1057,
   "metadata": {},
   "outputs": [],
   "source": [
    "#converting # reviews to integer\n",
    "cleaned_data['no_reviews'] = cleaned_data['no_reviews'].replace({'K': '*1e3', 'M': '*1e6'}, regex=True).map(pd.eval).astype(int)"
   ]
  },
  {
   "cell_type": "code",
   "execution_count": 1058,
   "metadata": {},
   "outputs": [],
   "source": [
    "cleaned_data['hearts'] = cleaned_data['hearts'].replace({'K': '*1e3', 'M': '*1e6'}, regex=True).map(pd.eval).astype(int)"
   ]
  },
  {
   "cell_type": "markdown",
   "metadata": {},
   "source": [
    "# retrieve ml from size and remove unnecessary comments"
   ]
  },
  {
   "cell_type": "code",
   "execution_count": 1059,
   "metadata": {},
   "outputs": [],
   "source": [
    "def sizess(x):\n",
    "    if x.startswith('Size:'):\n",
    "        return x\n",
    "    else: return 0 "
   ]
  },
  {
   "cell_type": "code",
   "execution_count": 1060,
   "metadata": {},
   "outputs": [],
   "source": [
    "cleaned_data['size1'] = cleaned_data['size1'].apply(sizess)"
   ]
  },
  {
   "cell_type": "code",
   "execution_count": 1061,
   "metadata": {},
   "outputs": [],
   "source": [
    "for i in cleaned_data.index:\n",
    "    text = str(cleaned_data['size1'][i])\n",
    "    substring = '/'\n",
    "    if text.find(substring) != -1:\n",
    "        cleaned_data.loc[i,'size1'] = cleaned_data.size1[i].split(\"/\")[1]\n",
    "    else: \n",
    "         cleaned_data.loc[i,'size1'] = 0  "
   ]
  },
  {
   "cell_type": "code",
   "execution_count": 1062,
   "metadata": {},
   "outputs": [],
   "source": [
    "cleaned_data.loc[:, 'size1'] = cleaned_data.loc[:, 'size1'].str.replace(\" - Sheer pink balm to your perfect pink glow\", '')\n",
    "cleaned_data.loc[:, 'size1'] = cleaned_data.loc[:, 'size1'].str.replace(\" fl oz\\t\\t\\t\\t\\t\\t\", '')\n",
    "cleaned_data.loc[:, 'size1'] = cleaned_data.loc[:, 'size1'].str.replace(\" pre-saturated chemical peel pads\", '')\n",
    "cleaned_data.loc[:, 'size1'] = cleaned_data.loc[:, 'size1'].str.replace(\" Mild\", '')\n",
    "cleaned_data.loc[:, 'size1'] = cleaned_data.loc[:, 'size1'].str.replace(\" fl oz\", '')\n",
    "cleaned_data.loc[:, 'size1'] = cleaned_data.loc[:, 'size1'].str.replace(\" - clear\", '')\n",
    "cleaned_data.loc[:, 'size1'] = cleaned_data.loc[:, 'size1'].str.replace(\" each\", '')\n",
    "cleaned_data.loc[:, 'size1'] = cleaned_data.loc[:, 'size1'].str.replace(\")\", '')\n",
    "cleaned_data.loc[:, 'size1'] = cleaned_data.loc[:, 'size1'].str.replace(\" Vials\", '')\n",
    "cleaned_data.loc[:, 'size1'] = cleaned_data.loc[:, 'size1'].str.replace(\" Refill\", '')\n",
    "cleaned_data.loc[:, 'size1'] = cleaned_data.loc[:, 'size1'].str.replace(\" packets\", '')\n",
    "cleaned_data.loc[:, 'size1'] = cleaned_data.loc[:, 'size1'].str.replace(\"2 x \", '')"
   ]
  },
  {
   "cell_type": "code",
   "execution_count": 1064,
   "metadata": {},
   "outputs": [],
   "source": [
    "cleaned_data['size1'] = cleaned_data['size1'].fillna(0)"
   ]
  },
  {
   "cell_type": "code",
   "execution_count": 1078,
   "metadata": {},
   "outputs": [],
   "source": [
    "for i in cleaned_data.index:\n",
    "    text = str(cleaned_data['size1'][i])\n",
    "    substring = 'mL'\n",
    "    if text.find(substring) != -1:\n",
    "        cleaned_data.loc[i,'size1'] = cleaned_data.size1[i].replace(\"mL\", '')\n",
    "    else: \n",
    "        pass "
   ]
  },
  {
   "cell_type": "code",
   "execution_count": 1093,
   "metadata": {},
   "outputs": [],
   "source": [
    "cleaned = cleaned_data[~cleaned_data['size1'].str.contains('g', na=False)]"
   ]
  },
  {
   "cell_type": "code",
   "execution_count": 1095,
   "metadata": {},
   "outputs": [],
   "source": [
    "cleaned = cleaned[~cleaned['size1'].str.contains('Patches', na=False)]"
   ]
  },
  {
   "cell_type": "code",
   "execution_count": 1097,
   "metadata": {},
   "outputs": [],
   "source": [
    "cleaned = cleaned[~cleaned['size1'].str.contains('patches', na=False)]"
   ]
  },
  {
   "cell_type": "code",
   "execution_count": 1099,
   "metadata": {},
   "outputs": [],
   "source": [
    "cleaned = cleaned[~cleaned['size1'].str.contains('spfL', na=False)]"
   ]
  },
  {
   "cell_type": "code",
   "execution_count": 1104,
   "metadata": {},
   "outputs": [],
   "source": [
    "cleaned['size1'] = cleaned['size1'].astype(float)"
   ]
  },
  {
   "cell_type": "code",
   "execution_count": 1106,
   "metadata": {},
   "outputs": [],
   "source": [
    "cleaned.loc[:, 'price_per_ml'] = cleaned['price'] / cleaned['size1']"
   ]
  },
  {
   "cell_type": "code",
   "execution_count": 1108,
   "metadata": {},
   "outputs": [],
   "source": [
    "cleaned.to_csv('sephora_cleaned_data.csv')"
   ]
  },
  {
   "cell_type": "markdown",
   "metadata": {},
   "source": [
    "# Bunch of graphs "
   ]
  },
  {
   "cell_type": "code",
   "execution_count": 1122,
   "metadata": {},
   "outputs": [],
   "source": [
    "import matplotlib.pyplot as plt\n",
    "import seaborn as sns"
   ]
  },
  {
   "cell_type": "code",
   "execution_count": 1113,
   "metadata": {},
   "outputs": [],
   "source": [
    "cleaned['price_per_ml'] = cleaned['price_per_ml'].fillna(0)"
   ]
  },
  {
   "cell_type": "code",
   "execution_count": 1120,
   "metadata": {},
   "outputs": [],
   "source": [
    "cleaned['price_per_ml'].replace(np.inf, 0, inplace=True)"
   ]
  },
  {
   "cell_type": "code",
   "execution_count": 1124,
   "metadata": {},
   "outputs": [
    {
     "name": "stderr",
     "output_type": "stream",
     "text": [
      "/Users/anun/opt/anaconda3/lib/python3.8/site-packages/seaborn/_decorators.py:36: FutureWarning: Pass the following variable as a keyword arg: x. From version 0.12, the only valid positional argument will be `data`, and passing other arguments without an explicit keyword will result in an error or misinterpretation.\n",
      "  warnings.warn(\n",
      "/Users/anun/opt/anaconda3/lib/python3.8/site-packages/seaborn/categorical.py:1296: UserWarning: 85.5% of the points cannot be placed; you may want to decrease the size of the markers or use stripplot.\n",
      "  warnings.warn(msg, UserWarning)\n"
     ]
    },
    {
     "data": {
      "image/png": "[encoded data removed]",
      "text/plain": [
       "<Figure size 1080x360 with 2 Axes>"
      ]
     },
     "metadata": {
      "needs_background": "light"
     },
     "output_type": "display_data"
    }
   ],
   "source": [
    "fig, ax = plt.subplots(1, 2, figsize = (15, 5))\n",
    "\n",
    "ax[0].hist(cleaned['price_per_ml'], bins = 20)\n",
    "ax[0].set_title('Distribution of Price per ml', weight = 'bold', fontsize = 20)\n",
    "sns.swarmplot(cleaned['price_per_ml'], ax = ax[1]);\n",
    "ax[1].set_title('Swarmplot of Price per ml', weight = 'bold', fontsize = 20);"
   ]
  },
  {
   "cell_type": "code",
   "execution_count": 1451,
   "metadata": {},
   "outputs": [
    {
     "name": "stderr",
     "output_type": "stream",
     "text": [
      "/Users/anun/opt/anaconda3/lib/python3.8/site-packages/seaborn/categorical.py:1296: UserWarning: 91.9% of the points cannot be placed; you may want to decrease the size of the markers or use stripplot.\n",
      "  warnings.warn(msg, UserWarning)\n",
      "/Users/anun/opt/anaconda3/lib/python3.8/site-packages/seaborn/categorical.py:1296: UserWarning: 96.2% of the points cannot be placed; you may want to decrease the size of the markers or use stripplot.\n",
      "  warnings.warn(msg, UserWarning)\n",
      "/Users/anun/opt/anaconda3/lib/python3.8/site-packages/seaborn/categorical.py:1296: UserWarning: 89.4% of the points cannot be placed; you may want to decrease the size of the markers or use stripplot.\n",
      "  warnings.warn(msg, UserWarning)\n",
      "/Users/anun/opt/anaconda3/lib/python3.8/site-packages/seaborn/categorical.py:1296: UserWarning: 71.2% of the points cannot be placed; you may want to decrease the size of the markers or use stripplot.\n",
      "  warnings.warn(msg, UserWarning)\n",
      "/Users/anun/opt/anaconda3/lib/python3.8/site-packages/seaborn/categorical.py:1296: UserWarning: 89.0% of the points cannot be placed; you may want to decrease the size of the markers or use stripplot.\n",
      "  warnings.warn(msg, UserWarning)\n",
      "/Users/anun/opt/anaconda3/lib/python3.8/site-packages/seaborn/categorical.py:1296: UserWarning: 87.9% of the points cannot be placed; you may want to decrease the size of the markers or use stripplot.\n",
      "  warnings.warn(msg, UserWarning)\n",
      "/Users/anun/opt/anaconda3/lib/python3.8/site-packages/seaborn/categorical.py:1296: UserWarning: 79.4% of the points cannot be placed; you may want to decrease the size of the markers or use stripplot.\n",
      "  warnings.warn(msg, UserWarning)\n"
     ]
    },
    {
     "data": {
      "image/png": "[encoded data removed]",
      "text/plain": [
       "<Figure size 1080x360 with 2 Axes>"
      ]
     },
     "metadata": {
      "needs_background": "light"
     },
     "output_type": "display_data"
    }
   ],
   "source": [
    "fig, ax = plt.subplots(1,2, figsize = (15,5))\n",
    "sns.swarmplot(x=\"category\", y=\"price_per_ml\", data=cleaned, ax = ax[0])\n",
    "ax[0].set_title('Count Distribution by Category', weight = 'bold', fontsize = 20)\n",
    "\n",
    "for tick in ax[0].get_xticklabels():\n",
    "    tick.set_rotation(90)"
   ]
  },
  {
   "cell_type": "code",
   "execution_count": 1454,
   "metadata": {},
   "outputs": [
    {
     "name": "stderr",
     "output_type": "stream",
     "text": [
      "/Users/anun/opt/anaconda3/lib/python3.8/site-packages/seaborn/_decorators.py:36: FutureWarning: Pass the following variable as a keyword arg: x. From version 0.12, the only valid positional argument will be `data`, and passing other arguments without an explicit keyword will result in an error or misinterpretation.\n",
      "  warnings.warn(\n"
     ]
    },
    {
     "data": {
      "text/plain": [
       "Text(0.5, 1.0, 'Count Divided by Category')"
      ]
     },
     "execution_count": 1454,
     "metadata": {},
     "output_type": "execute_result"
    },
    {
     "data": {
      "image/png": "[encoded data removed]",
      "text/plain": [
       "<Figure size 1080x360 with 2 Axes>"
      ]
     },
     "metadata": {
      "needs_background": "light"
     },
     "output_type": "display_data"
    }
   ],
   "source": [
    "fig, ax = plt.subplots(1, 2, figsize = (15,5))\n",
    "sns.countplot(cleaned['category'], ax = ax[0])\n",
    "for tick in ax[0].get_xticklabels():\n",
    "    tick.set_rotation(90)\n",
    "ax[0].set_title('Count Divided by Category', weight = 'bold', fontsize = 20)"
   ]
  },
  {
   "cell_type": "code",
   "execution_count": 1131,
   "metadata": {},
   "outputs": [],
   "source": [
    "from scipy import stats"
   ]
  },
  {
   "cell_type": "code",
   "execution_count": 1762,
   "metadata": {},
   "outputs": [],
   "source": [
    "try_data = cleaned.copy()"
   ]
  },
  {
   "cell_type": "code",
   "execution_count": 1763,
   "metadata": {},
   "outputs": [
    {
     "data": {
      "text/plain": [
       "(1960, 11)"
      ]
     },
     "execution_count": 1763,
     "metadata": {},
     "output_type": "execute_result"
    }
   ],
   "source": [
    "try_data.shape"
   ]
  },
  {
   "cell_type": "markdown",
   "metadata": {},
   "source": [
    "# fix ingredients"
   ]
  },
  {
   "cell_type": "code",
   "execution_count": 1764,
   "metadata": {},
   "outputs": [],
   "source": [
    "try_data.loc[try_data['name'] == 'The Moisturizing Soft Cream Moisturizer', 'list_of_ingredients'] = try_data['list_of_ingredients'].replace('Please be aware that ingredient lists may change or vary from time to time', \"Algae (Seaweed) Extract , Cyclopentasiloxane , Petrolatum , Glyceryl Distearate , Phenyl Trimethicone , Butylene Glycol , Hydrogenated Vegetable Oil , Cholesterol , Butyrospermum Parkii (Shea Butter) , Steareth-10 , Dimethicone , Glyceryl Stearate Se , Polysilicone-11 , Sesamum Indicum (Sesame) Seed Oil , Medicago Sativa (Alfalfa) Seed Powder , Helianthus Annuus (Sunflower) Seedcake , Prunus Amygdalus Dulcis (Sweet Almond) Seed Meal , Eucalyptus Globulus (Eucalyptus) Leaf Oil , Sodium Gluconate , Copper Gluconate , Calcium Gluconate , Magnesium Gluconate , Zinc Gluconate , Tocopheryl Succinate , Niacin , Sesamum Indicum (Sesame) Seed Powder , Water\\Aqua\\Eau , Citrus Aurantifolia (Lime) Peel Extract , Laminaria Digitata Extract , Crithmum Maritimum Extract , Salicornia Herbacea Extract , Plankton Extract , Chlorella Vulgaris Extract , Glycine Soja (Soybean) Seed Extract , Glycerin , Caffeine , Sea Salt\\Maris Sal\\Sel Marin , Micrococcus Lysate , Diethylhexyl Succinate , Adenosine Phosphate , Creatine , Hydrolyzed Algin , Isocetyl Stearoyl Stearate , Cetyl Alcohol , Sucrose , Acetyl Hexapeptide-8 , Glucose Oxidase , Polyacrylamide , Acetyl Carnitine Hcl , Glucose , Caprylic/Capric Triglyceride , C13-14 Isoparaffin , Tocopheryl Acetate , Tetrahexyldecyl Ascorbate , Sodium Pca , Glycosaminoglycans , Urea , Distearyldimonium Chloride , Dipalmitoyl Hydroxyproline , Sodium Hyaluronate , Laureth-7 , Lecithin , Trehalose , Polyquaternium-51 , Lactoperoxidase , Hydroxypropyl Cyclodextrin , Cyanocobalamin , Pentylene Glycol , Fragrance (Parfum) , Disodium Edta , Bht , Citronellol , Hydroxycitronellal , Geraniol , Linalool , Limonene , Potassium Sorbate , Phenoxyethanol\")"
   ]
  },
  {
   "cell_type": "code",
   "execution_count": 1765,
   "metadata": {},
   "outputs": [],
   "source": [
    "try_data.loc[try_data['name'] == 'Sens’Eyes - Waterproof Sensitive Eye Cleanser', 'list_of_ingredients'] = try_data['list_of_ingredients'].replace(\"To care for false lashes:\\nbr/>-Soak a mascara wand in Sens' Eyes and comb through your natural or synthetic lash to remove and clean excess glue, mascara, or eyeliner\",\"Water, Isododecane, Methylpropanediol, Pentylene Glycol, Acrylates Copolymer, Tromethamine, Butylene Glycol, Glycerin, Caprylyl Glycol, Sodium Dehydroacetate, Disodium Edta, Panthenol, Mel Extract (Honey Extract), Sodium Lauryl Sulfate, Urea, Gossypium Herbaceum (Cotton) Flower Extract, Ci 42090 (Blue 1), Fructose, Glucose, Inositol, Sucrose, Trehalose, Arginine Hcl, Lysine Hcl, Ornithine Hcl, Sodium Lactate, Sodium Citrate.\")"
   ]
  },
  {
   "cell_type": "code",
   "execution_count": 1766,
   "metadata": {},
   "outputs": [],
   "source": [
    "try_data.loc[try_data['name'] == 'The Renewal Oil','list_of_ingredients'] = try_data['list_of_ingredients'].replace('Please be aware that ingredient lists may change or vary from time to time',\"Limnanthes Alba (Meadowfoam) Seed Oil, Dimethicone, Caprylic/Capric Triglyceride, Water, Trisiloxane, Prunus Amygdalus Dulcis (Sweet Almond) Oil, Simmondsia Chinensis (Jojoba) Seed Oil, Polydecene, Hydrogenated Polydecene, Butylene Glycol, Propanediol, Glycerin, Algae (Seaweed) Extract, Brassica Campestris (Rapeseed) Seed Oil, Helianthus Annuus (Sunflower) Seed Oil, Sesamum Indicum (Sesame) Seed Oil, Eucalyptus Globulus (Eucalyptus) Leaf Oil, Camelina Sativa Seed Oil, Oxycoccus Palustris (Cranberry) Seed Oil, Olea Europaea (Olive) Fruit Oil, Hippophae Rhamnoides Oil, Medicago Sativa (Alfalfa) Seed Powder, Helianthus Annuus (Sunflower) Seedcake, Prunus Amygdalus Dulcis (Sweet Almond) Seed Meal, Sodium Gluconate, Copper Gluconate, Calcium Gluconate, Magnesium Gluconate, Zinc Gluconate, Tocopheryl Succinate, Niacin, Sesamum Indicum (Sesame) Seed Powder, Laminaria Ochroleuca Extract, Laminaria Saccharina Extract, Hydrolyzed Algin, Sea Salt/Maris Sal/Sel Marin, Chlorella Vulgaris Extract, Salicornia Herbacea Extract, Sigesbeckia Orientalis Extract, Laminaria Digitata Extract, Rosmarinus Officinalis (Rosemary) Leaf Extract, Magnolia Officinalis Bark Extract, Yeast Extract/Faex/Extrait De Levure, Crithmum Maritimum Extract, Commiphora Mukul Resin Extract, Citrus Aurantifolia (Lime) Peel Extract, Molasses Extract/Saccharum Officinarum/Extrait De Melasse, Sucrose, Acetyl Hexapeptide-8, Acetyl Glucosamine, Caffeine, Tocopheryl Acetate, Phenyl Trimethicone, Sodium Chloride, Tetrahexyldecyl Ascorbate, Alcohol Denat., Fragrance, Hexyl Cinnamal, Linalool, Amyl Cinnamal, Geraniol, Limonene, Citral, Benzyl Benzoate, Coumarin, Citronellol, Bht, Phenoxyethanol, Yellow 5 (Ci 19140), Yellow 6 (Ci 15985)\")"
   ]
  },
  {
   "cell_type": "code",
   "execution_count": 1767,
   "metadata": {},
   "outputs": [],
   "source": [
    "try_data.loc[try_data['name'] == 'Crème de la Mer Moisturizer', 'list_of_ingredients'] = try_data['list_of_ingredients'].replace('Please be aware that ingredient lists may change or vary from time to time', \"Algae (Seaweed) Extract, Mineral Oil\\Paraffinum Liquidum\\Huile Minerale, Petrolatum, Glycerin, Isohexadecane, Microcrystalline Wax\\Cera Microcristallina\\Cire Microcristalline, Lanolin Alcohol, Citrus Aurantifolia (Lime) Extract, Sesamum Indicum (Sesame) Seed Oil, Eucalyptus Globulus (Ecalyptus) Leaf Oil, Sesamum Indicum (Sesame) Seed Powder, Medicago Sativa (Alfalfa) Seed Powder, Helianthus Annuus (Sunflower) Seedcake, Prunus Amygdalus Dulcis (Sweet Almond) Seed Meal, Sodium Gluconate, Potassium Gluconate, Copper Gluconate, Calcium Gluconate, Magnesium Gluconate, Zinc Gluconate, Magnesium Sulfate, Paraffin, Tocopheryl Succinate, Niacin, Water\\Aqua\\EAU, Beta-Carotene, Decyl Oleate, Aluminum Distearate, Octyldodecanol, Citric Acid, Cyanocobalamin, Magnesium Stearate, Panthenol, Limonene, Geraniol, Linalool, Hydroxycitronellal, Citronellol, Benzyl Salicylate, Citral, Sodium Benzoate, Alcohol Denat, Fragrance (Parfum)\")"
   ]
  },
  {
   "cell_type": "code",
   "execution_count": 1768,
   "metadata": {},
   "outputs": [],
   "source": [
    "#1,2 hexanediol shows up in multiple formats. vectorizes as different ingredients\n",
    "try_data['list_of_ingredients'] = try_data['list_of_ingredients'].str.replace('1,10Decanediol', \"110Decanediol\")\n",
    "try_data['list_of_ingredients'] = try_data['list_of_ingredients'].str.replace('1,2 Hexanedio', \"12Hexanediol\")\n",
    "try_data['list_of_ingredients'] = try_data['list_of_ingredients'].str.replace('1,2 Hexanediol', \"12Hexanediol\")\n",
    "try_data['list_of_ingredients']= try_data['list_of_ingredients'].str.replace('1,2Hexanediol', \"12Hexanediol\")\n",
    "try_data['list_of_ingredients'] = try_data['list_of_ingredients'].str.replace('12HexanediolQuaternium18 Bentonite', \"12Hexanediol, Quaternium18 Bentonite\")\n",
    "try_data['list_of_ingredients']= try_data['list_of_ingredients'].str.replace('1, 2Hexanediol', \"12Hexanediol\")\n",
    "try_data['list_of_ingredients'] = try_data['list_of_ingredients'].str.replace('12Hexanedioll', \"12Hexanediol\")\n",
    "try_data['list_of_ingredients'] = try_data['list_of_ingredients'].str.replace('4t butylcyclohexanol', \"4tbutylcyclohexanol\")"
   ]
  },
  {
   "cell_type": "code",
   "execution_count": 1769,
   "metadata": {},
   "outputs": [],
   "source": [
    "#removing all the instances of 100% natural, 100% organic and the like\n",
    "try_data['list_of_ingredients']= try_data['list_of_ingredients'].str.replace('100% Natural ', \"\")\n",
    "try_data['list_of_ingredients']= try_data['list_of_ingredients'].str.replace('100% Organic ', \"\")\n",
    "try_data['list_of_ingredients']= try_data['list_of_ingredients'].str.replace('100percent Natural ', \"\")\n",
    "try_data['list_of_ingredients']= try_data['list_of_ingredients'].str.replace('100% Unrefined ', \"\")\n",
    "try_data['list_of_ingredients'] = try_data['list_of_ingredients'].str.replace('100% Pure ', \"\")\n",
    "try_data['list_of_ingredients']= try_data['list_of_ingredients'].str.replace('100% ', \"\")\n",
    "try_data['list_of_ingredients']= try_data['list_of_ingredients'].str.replace('All Natural ', \"\")\n",
    "try_data['list_of_ingredients']= try_data['list_of_ingredients'].str.replace('Organic ', \"\")"
   ]
  },
  {
   "cell_type": "code",
   "execution_count": 1770,
   "metadata": {},
   "outputs": [],
   "source": [
    "water = ['Water, ', 'Water/Aqua/Eau, ', 'Aqua/Water, ', 'Aqua (Water), ', 'Water , ', 'Aqua/Water/Eau, ',\n",
    "        'Water (Aqua, Eau), ', 'Water/Aqua/Eau (Aqua), ', ' Water, ', 'Water/Eau, ', 'Water (Aqua / Eau), ',\n",
    "        'ater/Aqua/Eau, ', 'Water/Eau/Aqua, ', 'Aqua, ', 'Water/Aqua/Eau ', 'Aqua ']\n",
    "\n",
    "for i in range(len(water)):\n",
    "    try_data['list_of_ingredients'] = try_data['list_of_ingredients'].str.replace(water[i], \"\")"
   ]
  },
  {
   "cell_type": "code",
   "execution_count": 1771,
   "metadata": {},
   "outputs": [],
   "source": [
    "try_data['list_of_ingredients']= try_data['list_of_ingredients'].str.replace('-', \"\")\n",
    "try_data['list_of_ingredients']= try_data['list_of_ingredients'].str.replace('*', \"\")\n",
    "try_data['list_of_ingredients']= try_data['list_of_ingredients'].str.replace('+', \"\")\n",
    "try_data['list_of_ingredients'] = try_data['list_of_ingredients'].str.replace('.', \"\")\n",
    "try_data['list_of_ingredients']= try_data['list_of_ingredients'].str.replace('^', \"\")\n",
    "try_data['list_of_ingredients'] = try_data['list_of_ingredients'].str.replace('\\r', \"\")\n",
    "try_data['list_of_ingredients']= try_data['list_of_ingredients'].str.replace('May contain: ', \"\")\n",
    "try_data['list_of_ingredients'] = try_data['list_of_ingredients'].str.replace(';', \",\")\n",
    "try_data['list_of_ingredients'] = try_data['list_of_ingredients'].str.replace('\\u200b', \"\")\n"
   ]
  },
  {
   "cell_type": "code",
   "execution_count": 1772,
   "metadata": {},
   "outputs": [],
   "source": [
    "try_data = try_data[try_data['list_of_ingredients'].notnull()]"
   ]
  },
  {
   "cell_type": "code",
   "execution_count": 1773,
   "metadata": {},
   "outputs": [
    {
     "data": {
      "text/plain": [
       "(1897, 11)"
      ]
     },
     "execution_count": 1773,
     "metadata": {},
     "output_type": "execute_result"
    }
   ],
   "source": [
    "try_data.shape"
   ]
  },
  {
   "cell_type": "code",
   "execution_count": 1774,
   "metadata": {},
   "outputs": [],
   "source": [
    "for i in try_data.index:\n",
    "    new_string = re.sub(r'\\([^)]*\\)', '', try_data.loc[i, 'list_of_ingredients'])\n",
    "    new_string= re.sub(r'\\<[^)]*\\>', '', new_string)\n",
    "    new_string= re.sub(r'\\[[^)]*\\]', '', new_string)\n",
    "    try_data.loc[i, 'list_of_ingredients'] = new_string.replace('  ', ' ')\n",
    "    \n",
    "try_data['list_of_ingredients'] = try_data['list_of_ingredients'].str.replace('<', \"\")\n",
    "try_data['list_of_ingredients'] = try_data['list_of_ingredients'].str.replace(']', \"\")\n",
    "try_data['list_of_ingredients'] = try_data['list_of_ingredients'].str.replace(')', \"\")\n",
    "try_data['list_of_ingredients'] = try_data['list_of_ingredients'].str.replace('(', \"\")"
   ]
  },
  {
   "cell_type": "code",
   "execution_count": 1775,
   "metadata": {},
   "outputs": [],
   "source": [
    "for i in try_data.index:\n",
    "    list_of_ingredients = []\n",
    "    split = try_data.list_of_ingredients[i].split(\", \")\n",
    "    for j in range(len(split)):\n",
    "        results = split[j].split(\"/\")[0]\n",
    "        results = results.strip() #stripping any white space \n",
    "        list_of_ingredients.append(results)\n",
    "    try_data.loc[i, 'list_of_ingredients'] = ', '.join(list_of_ingredients)"
   ]
  },
  {
   "cell_type": "code",
   "execution_count": 1776,
   "metadata": {},
   "outputs": [],
   "source": [
    "for i in try_data.index:\n",
    "    list_of_ingredients = []\n",
    "    split = try_data.list_of_ingredients[i].split(\", \")\n",
    "    for j in range(len(split)):\n",
    "        results = split[j].split(\"\\\\\")[0]\n",
    "        results = results.strip() #stripping any white space \n",
    "        list_of_ingredients.append(results)\n",
    "    try_data.loc[i, 'list_of_ingredients'] = ', '.join(list_of_ingredients)"
   ]
  },
  {
   "cell_type": "code",
   "execution_count": 1777,
   "metadata": {},
   "outputs": [
    {
     "data": {
      "text/plain": [
       "'Aqua, Cyclohexasiloxane, Squalane, BisPEG18 Methyl Ether Dimethyl Silane, Sucrose Stearate, Stearyl Alcohol, PEG8 Stearate, Myristyl Myristate, Pentaerythrityl Tetraethlhexanoate, Prunus Armeniaca Kernal Oil, Phenoxyethanol, Persea Gratissima Oil, Glyceryl Stearate, Cetl Alcohol, Oryza Sativa Bran Oil, Olea Europaea Fruit Oil, Chlorphenesin, Stearic Acid, Palmitic Acid, Disodium EDTA, Acrylates, Carbomer, Prunus Amygdalus Dulcis Oil, Xanthan Gum, Ethylhexylglycerin, Sodium Hydroxide, Tocopherol, Glycine Soja Oil, Pseudoalteromonas Ferment Extract, Myristic acid, Hydroxypalmitol Sphinganine, BHT, Salicylic Acid, Citric Acid'"
      ]
     },
     "execution_count": 1777,
     "metadata": {},
     "output_type": "execute_result"
    }
   ],
   "source": [
    "try_data.loc[10,'list_of_ingredients']"
   ]
  },
  {
   "cell_type": "code",
   "execution_count": 1778,
   "metadata": {},
   "outputs": [
    {
     "data": {
      "text/plain": [
       "array(['moisturizing-cream-oils-mists', 'cleanser', 'facial-treatments',\n",
       "       'eye-treatment-dark-circle-treatment', 'skin-care-tools',\n",
       "       'sunscreen-sun-protection', 'lip-treatments'], dtype=object)"
      ]
     },
     "execution_count": 1778,
     "metadata": {},
     "output_type": "execute_result"
    }
   ],
   "source": [
    "try_data.category.unique()"
   ]
  },
  {
   "cell_type": "markdown",
   "metadata": {},
   "source": [
    "# try a recommendation on moisturizing-cream-oils-mists ingredients"
   ]
  },
  {
   "cell_type": "code",
   "execution_count": 1779,
   "metadata": {},
   "outputs": [],
   "source": [
    "# Filter the data by the given options\n",
    "try_data = try_data[try_data['category'] == 'moisturizing-cream-oils-mists']\n",
    "try_data = try_data.reset_index()"
   ]
  },
  {
   "cell_type": "code",
   "execution_count": 1780,
   "metadata": {},
   "outputs": [],
   "source": [
    "# Tokenization\n",
    "ingredient_lists = {}\n",
    "data = []\n",
    "lists = 0 "
   ]
  },
  {
   "cell_type": "markdown",
   "metadata": {},
   "source": [
    "# ingredients, products (matrix)"
   ]
  },
  {
   "cell_type": "code",
   "execution_count": 1781,
   "metadata": {},
   "outputs": [],
   "source": [
    "for i in range(len(try_data)):    \n",
    "    ingredients = try_data['list_of_ingredients'][i]\n",
    "    ingredients_lower = ingredients.lower()\n",
    "    tokens = ingredients_lower.split(', ')\n",
    "    data.append(tokens)\n",
    "    for ingredient in tokens:\n",
    "        if ingredient not in ingredient_lists:\n",
    "            ingredient_lists[ingredient] = lists\n",
    "            lists += 1"
   ]
  },
  {
   "cell_type": "code",
   "execution_count": 1782,
   "metadata": {},
   "outputs": [],
   "source": [
    "# Get the number of items and tokens \n",
    "M = len(try_data)                 # The number of the items\n",
    "N = len(ingredient_lists)     # The number of the ingredients\n",
    "\n",
    "# Initialize a matrix of zeros\n",
    "A = np.zeros((M, N))"
   ]
  },
  {
   "cell_type": "code",
   "execution_count": 1783,
   "metadata": {},
   "outputs": [],
   "source": [
    "# Define the oh_encoder function\n",
    "def oh_encoder(tokens):\n",
    "    x = np.zeros(N)    \n",
    "    for ingredient in tokens:\n",
    "        # Get the index for each ingredient\n",
    "        idx = ingredient_lists[ingredient]\n",
    "        # Put 1 at the corresponding indices\n",
    "        x[idx] = 1\n",
    "    return x"
   ]
  },
  {
   "cell_type": "code",
   "execution_count": 1784,
   "metadata": {},
   "outputs": [],
   "source": [
    "i = 0\n",
    "for tokens in data:\n",
    "    A[i, :] = oh_encoder(tokens)\n",
    "    i += 1"
   ]
  },
  {
   "cell_type": "code",
   "execution_count": 1810,
   "metadata": {},
   "outputs": [
    {
     "data": {
      "text/plain": [
       "(463, 2578)"
      ]
     },
     "execution_count": 1810,
     "metadata": {},
     "output_type": "execute_result"
    }
   ],
   "source": [
    "A.shape"
   ]
  },
  {
   "cell_type": "code",
   "execution_count": 1785,
   "metadata": {},
   "outputs": [],
   "source": [
    "from sklearn.manifold import TSNE"
   ]
  },
  {
   "cell_type": "code",
   "execution_count": 1786,
   "metadata": {},
   "outputs": [],
   "source": [
    "# Dimension reduction with t-SNE\n",
    "model = TSNE(n_components = 2, learning_rate = 200)\n",
    "tsne_features = model.fit_transform(A)\n",
    "\n",
    "# Make X, Y columns \n",
    "try_data['X'] = tsne_features[:, 0]\n",
    "try_data['Y'] = tsne_features[:, 1]"
   ]
  },
  {
   "cell_type": "code",
   "execution_count": 1787,
   "metadata": {},
   "outputs": [],
   "source": [
    "from bokeh.models import ColumnDataSource\n",
    "from bokeh.plotting import figure, show\n",
    "from bokeh.models import HoverTool"
   ]
  },
  {
   "cell_type": "code",
   "execution_count": 1788,
   "metadata": {},
   "outputs": [],
   "source": [
    "# Make a source and a scatter plot  \n",
    "source = ColumnDataSource(try_data)\n",
    "plot = figure(x_axis_label = 'T-SNE 1',\n",
    "              y_axis_label = 'T-SNE 2', \n",
    "              width = 500, height = 400)\n",
    "plot.circle(x = 'X', y = 'Y', source = source, \n",
    "            size = 10, color = '#FF7373', alpha = .8)\n",
    "plot.background_fill_color = \"beige\"\n",
    "plot.background_fill_alpha = 0.2\n",
    "# Add hover tool\n",
    "hover = HoverTool(tooltips = [\n",
    "        ('Item', '@name'),\n",
    "        ('brand', '@brand'),\n",
    "        ('Price', '$ @price')])\n",
    "plot.add_tools(hover)"
   ]
  },
  {
   "cell_type": "code",
   "execution_count": 1789,
   "metadata": {},
   "outputs": [],
   "source": [
    "option_1 = try_data.category.unique()"
   ]
  },
  {
   "cell_type": "code",
   "execution_count": 1790,
   "metadata": {},
   "outputs": [],
   "source": [
    "from ipywidgets import interact\n",
    "from bokeh.io import push_notebook, show, output_notebook"
   ]
  },
  {
   "cell_type": "code",
   "execution_count": 1791,
   "metadata": {},
   "outputs": [
    {
     "name": "stderr",
     "output_type": "stream",
     "text": [
      "/Users/anun/opt/anaconda3/lib/python3.8/site-packages/bokeh/io/notebook.py:252: UserWarning: Cannot find a last shown plot to update. Call output_notebook() and show(..., notebook_handle=True) before push_notebook()\n",
      "  warn(\"Cannot find a last shown plot to update. Call output_notebook() and show(..., notebook_handle=True) before push_notebook()\")\n"
     ]
    }
   ],
   "source": [
    "def update(op1 = option_1[0]):\n",
    "    a_b = op1\n",
    "    new_data = {\n",
    "        'X' : try_data[try_data['category'] == a_b]['X'],\n",
    "        'Y' : try_data[try_data['category'] == a_b]['Y'],\n",
    "        'name' : try_data[try_data['category'] == a_b]['name'],\n",
    "        'brand' : try_data[try_data['category'] == a_b]['brand'],\n",
    "        'price' : try_data[try_data['category'] == a_b]['price'],\n",
    "    }\n",
    "    source.data = new_data\n",
    "    push_notebook()\n",
    "# interact the plot with callback \n",
    "interact(update, op1 = option_1)\n",
    "show(plot, notebook_handle = True)"
   ]
  },
  {
   "cell_type": "code",
   "execution_count": 1792,
   "metadata": {},
   "outputs": [],
   "source": [
    "df_2 = try_data[try_data.category == 'moisturizing-cream-oils-mists'].reset_index().drop('index', axis = 1)\n",
    "df_2['dist'] = 0.0"
   ]
  },
  {
   "cell_type": "code",
   "execution_count": 1794,
   "metadata": {},
   "outputs": [
    {
     "data": {
      "text/html": [
       "<div>\n",
       "<style scoped>\n",
       "    .dataframe tbody tr th:only-of-type {\n",
       "        vertical-align: middle;\n",
       "    }\n",
       "\n",
       "    .dataframe tbody tr th {\n",
       "        vertical-align: top;\n",
       "    }\n",
       "\n",
       "    .dataframe thead th {\n",
       "        text-align: right;\n",
       "    }\n",
       "</style>\n",
       "<table border=\"1\" class=\"dataframe\">\n",
       "  <thead>\n",
       "    <tr style=\"text-align: right;\">\n",
       "      <th></th>\n",
       "      <th>level_0</th>\n",
       "      <th>name</th>\n",
       "      <th>brand</th>\n",
       "      <th>category</th>\n",
       "      <th>price</th>\n",
       "      <th>no_reviews</th>\n",
       "      <th>hearts</th>\n",
       "      <th>size1</th>\n",
       "      <th>url</th>\n",
       "      <th>ingredients</th>\n",
       "      <th>list_of_ingredients</th>\n",
       "      <th>price_per_ml</th>\n",
       "      <th>X</th>\n",
       "      <th>Y</th>\n",
       "      <th>dist</th>\n",
       "    </tr>\n",
       "  </thead>\n",
       "  <tbody>\n",
       "    <tr>\n",
       "      <th>450</th>\n",
       "      <td>450</td>\n",
       "      <td>Water-Infusing Electrolyte Moisturizer</td>\n",
       "      <td>Paula's Choice</td>\n",
       "      <td>moisturizing-cream-oils-mists</td>\n",
       "      <td>35.0</td>\n",
       "      <td>4</td>\n",
       "      <td>503</td>\n",
       "      <td>50.0</td>\n",
       "      <td>https://www.sephora.com/product/paula-s-choice...</td>\n",
       "      <td>[&lt;div class=\"css-1ue8dmw eanm77i0\" data-comp=\"...</td>\n",
       "      <td>Water Glycerin, Dimethicone, Butylene Glycol, ...</td>\n",
       "      <td>0.700000</td>\n",
       "      <td>1.539320</td>\n",
       "      <td>-6.105567</td>\n",
       "      <td>0.0</td>\n",
       "    </tr>\n",
       "    <tr>\n",
       "      <th>460</th>\n",
       "      <td>460</td>\n",
       "      <td>CLEAR Oil-Free Moisturizer</td>\n",
       "      <td>Paula's Choice</td>\n",
       "      <td>moisturizing-cream-oils-mists</td>\n",
       "      <td>29.0</td>\n",
       "      <td>2</td>\n",
       "      <td>229</td>\n",
       "      <td>60.0</td>\n",
       "      <td>https://www.sephora.com/product/paula-s-choice...</td>\n",
       "      <td>[&lt;div class=\"css-1ue8dmw eanm77i0\" data-comp=\"...</td>\n",
       "      <td>Water Ethyl Macadamiate, Glycerin, Cetearyl Al...</td>\n",
       "      <td>0.483333</td>\n",
       "      <td>-1.482490</td>\n",
       "      <td>1.126342</td>\n",
       "      <td>0.0</td>\n",
       "    </tr>\n",
       "    <tr>\n",
       "      <th>461</th>\n",
       "      <td>461</td>\n",
       "      <td>RESIST Anti-Aging Clear Skin Hydrator</td>\n",
       "      <td>Paula's Choice</td>\n",
       "      <td>moisturizing-cream-oils-mists</td>\n",
       "      <td>33.0</td>\n",
       "      <td>1</td>\n",
       "      <td>169</td>\n",
       "      <td>60.0</td>\n",
       "      <td>https://www.sephora.com/product/paula-s-choice...</td>\n",
       "      <td>[&lt;div class=\"css-1ue8dmw eanm77i0\" data-comp=\"...</td>\n",
       "      <td>Water Cyclopentasiloxane, Octyldodecyl Neopent...</td>\n",
       "      <td>0.550000</td>\n",
       "      <td>7.384267</td>\n",
       "      <td>3.383341</td>\n",
       "      <td>0.0</td>\n",
       "    </tr>\n",
       "    <tr>\n",
       "      <th>462</th>\n",
       "      <td>462</td>\n",
       "      <td>RESIST Barrier Repair Moisturizer with Retinol</td>\n",
       "      <td>Paula's Choice</td>\n",
       "      <td>moisturizing-cream-oils-mists</td>\n",
       "      <td>33.0</td>\n",
       "      <td>2</td>\n",
       "      <td>389</td>\n",
       "      <td>50.0</td>\n",
       "      <td>https://www.sephora.com/product/paula-s-choice...</td>\n",
       "      <td>[&lt;div class=\"css-1ue8dmw eanm77i0\" data-comp=\"...</td>\n",
       "      <td>Water Dicaprylyl Carbonate, Glycerin, Ethylhex...</td>\n",
       "      <td>0.660000</td>\n",
       "      <td>6.041006</td>\n",
       "      <td>0.696939</td>\n",
       "      <td>0.0</td>\n",
       "    </tr>\n",
       "  </tbody>\n",
       "</table>\n",
       "</div>"
      ],
      "text/plain": [
       "     level_0                                            name           brand  \\\n",
       "450      450          Water-Infusing Electrolyte Moisturizer  Paula's Choice   \n",
       "460      460                      CLEAR Oil-Free Moisturizer  Paula's Choice   \n",
       "461      461           RESIST Anti-Aging Clear Skin Hydrator  Paula's Choice   \n",
       "462      462  RESIST Barrier Repair Moisturizer with Retinol  Paula's Choice   \n",
       "\n",
       "                          category  price  no_reviews  hearts  size1  \\\n",
       "450  moisturizing-cream-oils-mists   35.0           4     503   50.0   \n",
       "460  moisturizing-cream-oils-mists   29.0           2     229   60.0   \n",
       "461  moisturizing-cream-oils-mists   33.0           1     169   60.0   \n",
       "462  moisturizing-cream-oils-mists   33.0           2     389   50.0   \n",
       "\n",
       "                                                   url  \\\n",
       "450  https://www.sephora.com/product/paula-s-choice...   \n",
       "460  https://www.sephora.com/product/paula-s-choice...   \n",
       "461  https://www.sephora.com/product/paula-s-choice...   \n",
       "462  https://www.sephora.com/product/paula-s-choice...   \n",
       "\n",
       "                                           ingredients  \\\n",
       "450  [<div class=\"css-1ue8dmw eanm77i0\" data-comp=\"...   \n",
       "460  [<div class=\"css-1ue8dmw eanm77i0\" data-comp=\"...   \n",
       "461  [<div class=\"css-1ue8dmw eanm77i0\" data-comp=\"...   \n",
       "462  [<div class=\"css-1ue8dmw eanm77i0\" data-comp=\"...   \n",
       "\n",
       "                                   list_of_ingredients  price_per_ml  \\\n",
       "450  Water Glycerin, Dimethicone, Butylene Glycol, ...      0.700000   \n",
       "460  Water Ethyl Macadamiate, Glycerin, Cetearyl Al...      0.483333   \n",
       "461  Water Cyclopentasiloxane, Octyldodecyl Neopent...      0.550000   \n",
       "462  Water Dicaprylyl Carbonate, Glycerin, Ethylhex...      0.660000   \n",
       "\n",
       "            X         Y  dist  \n",
       "450  1.539320 -6.105567   0.0  \n",
       "460 -1.482490  1.126342   0.0  \n",
       "461  7.384267  3.383341   0.0  \n",
       "462  6.041006  0.696939   0.0  "
      ]
     },
     "execution_count": 1794,
     "metadata": {},
     "output_type": "execute_result"
    }
   ],
   "source": [
    "df_2[df_2['brand'] == \"Paula's Choice\"]"
   ]
  },
  {
   "cell_type": "code",
   "execution_count": 1795,
   "metadata": {},
   "outputs": [],
   "source": [
    "myProduct = df_2[df_2.name.str.contains('RESIST Anti-Aging Clear Skin Hydrator')]"
   ]
  },
  {
   "cell_type": "code",
   "execution_count": 1797,
   "metadata": {},
   "outputs": [],
   "source": [
    "P1 = np.array([myProduct.X.values, myProduct.Y.values]).reshape(1, -1)"
   ]
  },
  {
   "cell_type": "code",
   "execution_count": 1798,
   "metadata": {},
   "outputs": [
    {
     "name": "stderr",
     "output_type": "stream",
     "text": [
      "<ipython-input-1798-9e043d94f5b0>:3: RuntimeWarning: invalid value encountered in sqrt\n",
      "  df_2.dist[i] = ((P1 * P2).sum() / (np.sqrt(np.sum(P1))*np.sqrt(np.sum(P2))))\n",
      "<ipython-input-1798-9e043d94f5b0>:3: SettingWithCopyWarning: \n",
      "A value is trying to be set on a copy of a slice from a DataFrame\n",
      "\n",
      "See the caveats in the documentation: https://pandas.pydata.org/pandas-docs/stable/user_guide/indexing.html#returning-a-view-versus-a-copy\n",
      "  df_2.dist[i] = ((P1 * P2).sum() / (np.sqrt(np.sum(P1))*np.sqrt(np.sum(P2))))\n"
     ]
    }
   ],
   "source": [
    "for i in range(len(df_2)):\n",
    "    P2 = np.array([df_2['X'][i], df_2['Y'][i]]).reshape(-1, 1)\n",
    "    df_2.dist[i] = ((P1 * P2).sum() / (np.sqrt(np.sum(P1))*np.sqrt(np.sum(P2))))"
   ]
  },
  {
   "cell_type": "markdown",
   "metadata": {},
   "source": [
    "# Top 5 products"
   ]
  },
  {
   "cell_type": "code",
   "execution_count": 1799,
   "metadata": {},
   "outputs": [
    {
     "data": {
      "text/html": [
       "<div>\n",
       "<style scoped>\n",
       "    .dataframe tbody tr th:only-of-type {\n",
       "        vertical-align: middle;\n",
       "    }\n",
       "\n",
       "    .dataframe tbody tr th {\n",
       "        vertical-align: top;\n",
       "    }\n",
       "\n",
       "    .dataframe thead th {\n",
       "        text-align: right;\n",
       "    }\n",
       "</style>\n",
       "<table border=\"1\" class=\"dataframe\">\n",
       "  <thead>\n",
       "    <tr style=\"text-align: right;\">\n",
       "      <th></th>\n",
       "      <th>name</th>\n",
       "      <th>brand</th>\n",
       "      <th>dist</th>\n",
       "    </tr>\n",
       "  </thead>\n",
       "  <tbody>\n",
       "    <tr>\n",
       "      <th>117</th>\n",
       "      <td>Juno Antioxidant + Superfood Face Oil</td>\n",
       "      <td>SUNDAY RILEY</td>\n",
       "      <td>1.266378</td>\n",
       "    </tr>\n",
       "    <tr>\n",
       "      <th>164</th>\n",
       "      <td>First Care Activating Serum Mist</td>\n",
       "      <td>Sulwhasoo</td>\n",
       "      <td>1.589672</td>\n",
       "    </tr>\n",
       "    <tr>\n",
       "      <th>338</th>\n",
       "      <td>Glow Body Cream</td>\n",
       "      <td>SEPHORA COLLECTION</td>\n",
       "      <td>1.694094</td>\n",
       "    </tr>\n",
       "    <tr>\n",
       "      <th>405</th>\n",
       "      <td>Mini Beauty Oil</td>\n",
       "      <td>rms beauty</td>\n",
       "      <td>2.448151</td>\n",
       "    </tr>\n",
       "    <tr>\n",
       "      <th>69</th>\n",
       "      <td>Beauty Elixir</td>\n",
       "      <td>Caudalie</td>\n",
       "      <td>2.495441</td>\n",
       "    </tr>\n",
       "  </tbody>\n",
       "</table>\n",
       "</div>"
      ],
      "text/plain": [
       "                                      name               brand      dist\n",
       "117  Juno Antioxidant + Superfood Face Oil        SUNDAY RILEY  1.266378\n",
       "164       First Care Activating Serum Mist           Sulwhasoo  1.589672\n",
       "338                        Glow Body Cream  SEPHORA COLLECTION  1.694094\n",
       "405                        Mini Beauty Oil          rms beauty  2.448151\n",
       "69                           Beauty Elixir            Caudalie  2.495441"
      ]
     },
     "execution_count": 1799,
     "metadata": {},
     "output_type": "execute_result"
    }
   ],
   "source": [
    "df_2 = df_2.sort_values('dist')\n",
    "df_2[['name', 'brand', 'dist']].head(5)"
   ]
  },
  {
   "cell_type": "code",
   "execution_count": null,
   "metadata": {},
   "outputs": [],
   "source": []
  }
 ],
 "metadata": {
  "kernelspec": {
   "display_name": "Python 3",
   "language": "python",
   "name": "python3"
  },
  "language_info": {
   "codemirror_mode": {
    "name": "ipython",
    "version": 3
   },
   "file_extension": ".py",
   "mimetype": "text/x-python",
   "name": "python",
   "nbconvert_exporter": "python",
   "pygments_lexer": "ipython3",
   "version": "3.8.5"
  }
 },
 "nbformat": 4,
 "nbformat_minor": 4
}
